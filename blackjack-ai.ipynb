{
 "cells": [
  {
   "cell_type": "code",
   "execution_count": 4,
   "metadata": {
    "collapsed": true
   },
   "outputs": [],
   "source": [
    "import matplotlib.pyplot as plt\n",
    "%matplotlib inline "
   ]
  },
  {
   "cell_type": "code",
   "execution_count": 5,
   "metadata": {
    "collapsed": true
   },
   "outputs": [],
   "source": [
    "import numpy as np\n",
    "import pprint\n",
    "pp = pprint.PrettyPrinter(indent=4)\n",
    "printer = False "
   ]
  },
  {
   "cell_type": "code",
   "execution_count": 6,
   "metadata": {
    "collapsed": true
   },
   "outputs": [],
   "source": [
    "class Deck: #class representing deck of cards\n",
    "    def __init__(self):\n",
    "        self.J, self.Q, self.K, self.A = 10, 10, 10, 11\n",
    "        self.cards = [2, 3, 4, 5, 6, 7, 8, 9, 10, self.J, self.Q, self.K, self.A] * 4\n",
    "        self.shuffle()\n",
    "        \n",
    "    def shuffle(self):\n",
    "        np.random.shuffle(self.cards)\n",
    "        \n",
    "    def reset(self): #cards for new game\n",
    "        self.cards = [2, 3, 4, 5, 6, 7, 8, 9, 10, self.J, self.Q, self.K, self.A] * 4\n",
    "        self.shuffle()\n",
    "    \n",
    "    def hit(self):\n",
    "        return self.cards.pop()"
   ]
  },
  {
   "cell_type": "code",
   "execution_count": 7,
   "metadata": {
    "collapsed": true
   },
   "outputs": [],
   "source": [
    "class BlackJack: #class implementing actual blackjack game and rules\n",
    "    \n",
    "    def __init__(self, player): #argument is instance of class that is being played\n",
    "        self.deck = Deck()\n",
    "        self.player = player\n",
    "        self.dealer = Dealer()\n",
    "        self.wins = [] # 1 = player won, 0 is dealer, used to keep track of winrate\n",
    "        self.winrate = 0 # total cumilitave winrate\n",
    "        \n",
    "    def play(self): \n",
    "        dealerWins = 0\n",
    "        playerWins = 0\n",
    "        for _ in range(10000): #plays 10,000 games\n",
    "            self.dealer_draw() # dealer draws first\n",
    "            self.turn(self.player)\n",
    "            self.turn(self.dealer)\n",
    "            winner = self.eval_winner()\n",
    "            \n",
    "            if winner == \"dealer\": #update the averages to keep track of data\n",
    "                dealerWins += 1\n",
    "                self.wins.append(0)\n",
    "            elif winner == \"player\":\n",
    "                playerWins += 1\n",
    "                self.wins.append(1)\n",
    "            \n",
    "            self.deck.reset() #reset the 2 players and the deck of cards\n",
    "            self.player.reset()\n",
    "            self.dealer.reset()\n",
    "            if printer: print(self.player.qValues)\n",
    "        \n",
    "        self.winrate = playerWins/(dealerWins + playerWins)\n",
    "        print(self.winrate)\n",
    "        if printer: pp.pprint(self.player.qValues)\n",
    "        \n",
    "    def dealer_draw(self): #dealer draws first\n",
    "        card = self.deck.hit()\n",
    "        self.dealer.receive_card(card) #give dealer his card\n",
    "        self.player.receive_dealers_card(card) #let player know what card the dealer got\n",
    "        if printer: print(\"dealer received card with value of \", card)\n",
    "        \n",
    "    def turn(self, player): #function representing 1 players turn\n",
    "        playerMove = \"hit\"\n",
    "        while playerMove == \"hit\":#give the player their card as long as they keep asking for it\n",
    "            card = self.deck.hit()\n",
    "            player.receive_card(card)\n",
    "            val = player.hand_value()\n",
    "            # if the player busts or gets blackjack, their turn is done\n",
    "            if val == -1:\n",
    "                # print(\"Busted\")\n",
    "                player.update()\n",
    "                break\n",
    "            elif val == 21:\n",
    "                # print(\"BlackJack\")\n",
    "                break\n",
    "            else: \n",
    "                playerMove = player.get_move()\n",
    "    \n",
    "    def eval_winner(self): # function to decide which player won\n",
    "        playerVal = self.player.hand_value()\n",
    "        dealerVal = self.dealer.hand_value()\n",
    "        \n",
    "        if playerVal == -1 or dealerVal > playerVal: #the dealer wins if the player busts\n",
    "            return \"dealer\"\n",
    "        elif playerVal >= dealerVal:\n",
    "            # print(\"player won!\")\n",
    "            return \"player\"\n",
    "        else:\n",
    "            # print(\"tie\")\n",
    "            return \"tie\""
   ]
  },
  {
   "cell_type": "code",
   "execution_count": 8,
   "metadata": {
    "collapsed": true
   },
   "outputs": [],
   "source": [
    "class Player: #this is a base class for the player, allows user to type hit or stand and actually play blackjack\n",
    "    \n",
    "    def __init__(self):\n",
    "        self.cards = [] #keeps track of the cards in the players hand\n",
    "        \n",
    "    def reset(self):\n",
    "        self.cards = [] #player starts with no cards\n",
    "        \n",
    "    def update(self): #used for q-learning updates, not used by base class\n",
    "        return\n",
    "        \n",
    "    def receive_dealers_card(self, card):#keep track of the dealers card\n",
    "        self.dealer_card = card\n",
    "    \n",
    "    def get_move(self): #function that game calls to get if player is standing or hitting again\n",
    "        #hit or stop\n",
    "        inp = \"\"\n",
    "        while inp != \"hit\" and inp != \"stand\":\n",
    "            print(\"Enter hit or stand: \")\n",
    "            inp = input()\n",
    "        return inp\n",
    "    \n",
    "    def receive_card(self, card): # after hitting, i add the card to my hand\n",
    "        self.cards.append(card)\n",
    "    \n",
    "    def hand_value(self): # returns best hand value (Aces make things hard)\n",
    "        # returns hard values when available ie the max possible hand value that isnt above 21\n",
    "        if len(self.cards) == 0: #if i dont have any cards i dont have any value\n",
    "            return 0\n",
    "        value = [] # value is an array of values of the current hand\n",
    "        for card in self.cards:\n",
    "            if card != 11:\n",
    "                if len(value) != 0:\n",
    "                    for _ in range(len(value)):\n",
    "                        value[_] += card\n",
    "                else:\n",
    "                    value = [card]\n",
    "            else:\n",
    "                if len(value) != 0:\n",
    "                    newValue = []\n",
    "                    for _ in value:\n",
    "                        newValue.append(_ + 1)\n",
    "                        newValue.append(_ + 11)\n",
    "                    value = newValue\n",
    "                else:\n",
    "                    value = [1, 11]\n",
    "        value = [val for val in value if val <= 21]\n",
    "        if 21 in value: #if i have a blackjack i for sure want to have that be my value\n",
    "            return 21\n",
    "        elif len(value) == 0: #if i busted, value array wont have any possible values\n",
    "            return -1\n",
    "        else:\n",
    "            return max(value)"
   ]
  },
  {
   "cell_type": "code",
   "execution_count": 9,
   "metadata": {
    "collapsed": true
   },
   "outputs": [],
   "source": [
    "class Dealer(Player):\n",
    "    \n",
    "    def get_move(self): #dealer hits if < 17\n",
    "        hand = self.hand_value()\n",
    "        if hand < 17:\n",
    "            return \"hit\"\n",
    "        elif hand >= 17:\n",
    "            return \"stand\""
   ]
  },
  {
   "cell_type": "code",
   "execution_count": 10,
   "metadata": {
    "collapsed": true
   },
   "outputs": [],
   "source": [
    "class RandomPlayer(Player): #player that randomly hits or stands (used for baseline stats)\n",
    "    def get_move(self):\n",
    "        return np.random.choice([\"hit\", \"stand\"])"
   ]
  },
  {
   "cell_type": "code",
   "execution_count": 14,
   "metadata": {
    "collapsed": true
   },
   "outputs": [],
   "source": [
    "# just a dictionary to set default value of state\n",
    "class Counter(dict):\n",
    "    def __getitem__(self, idx):\n",
    "        self.setdefault(idx, idx[1])\n",
    "        return dict.__getitem__(self, idx)"
   ]
  },
  {
   "cell_type": "code",
   "execution_count": 15,
   "metadata": {
    "collapsed": true
   },
   "outputs": [],
   "source": [
    "class QLearningAgent(Player): #THE MEAT\n",
    "    def __init__(self):\n",
    "        self.qValues = Counter() #{(dealers_card_value, players_value, player_move): q_value}\n",
    "        self.lastMove = \"hit\" # first move is always hit\n",
    "        self.lastValue = 0 # first value always 0\n",
    "        self.alpha = .2 #how much i want to weigh my last observation\n",
    "        super(QLearningAgent, self).__init__()\n",
    "        \n",
    "    def reset(self):\n",
    "        self.cards = []\n",
    "        self.lastMove = \"hit\" # reset first move to hit\n",
    "        self.lastValue = 0 # reset my last value to 0 for new game, dont want to update value from last game\n",
    "    \n",
    "    def get_move(self): # the hard stuff\n",
    "        return self.computeActionFromQValues(self.dealer_card, self.hand_value())\n",
    "    \n",
    "    def getQValue(self, dealerVal, playerVal, action): # dictionary lookup function\n",
    "        return float(self.qValues[(dealerVal, playerVal, action)])\n",
    "    \n",
    "    def receive_card(self, card): # overridden because I want to update the value of my last action based on my new state\n",
    "        if printer: print(\"card recieved\")\n",
    "        self.cards.append(card)\n",
    "        self.update() \n",
    "    \n",
    "    def computeValueFromQValues(self, dealerVal, playerVal): \n",
    "        # looks through my actions and returns the value of the highest one\n",
    "        maxQVal = float(\"-inf\")\n",
    "        legalActions = self.getLegalActions(playerVal)\n",
    "        if len(legalActions) == 0:\n",
    "            return 0.0\n",
    "        for action in legalActions:\n",
    "            maxQVal = max(maxQVal, self.getQValue(dealerVal, playerVal, action))\n",
    "        return maxQVal\n",
    "    \n",
    "    def computeActionFromQValues(self, dealerVal, playerVal):\n",
    "        # function that returns my move based on observed values of my actions\n",
    "        if printer: print(\"getting action\")\n",
    "        maxQVal = float(\"-inf\")\n",
    "        maxAction = None\n",
    "        legalActions = self.getLegalActions(playerVal)\n",
    "        for action in self.getLegalActions(playerVal):\n",
    "            tempQVal = self.getQValue(dealerVal, playerVal, action)\n",
    "            if tempQVal > maxQVal:\n",
    "                maxQVal = tempQVal\n",
    "                maxAction = action\n",
    "            elif tempQVal == maxQVal:\n",
    "                maxAction = np.random.choice([maxAction, action])\n",
    "        if np.random.random() < .5: #random exploration\n",
    "            maxAction = np.random.choice(legalActions)\n",
    "        if printer: print(\"   \", maxAction)\n",
    "        self.lastMove = maxAction\n",
    "        if printer: print(\"    updating Last move in get action\", self.lastMove)\n",
    "            \n",
    "        if maxAction == \"stand\": # if we stand, update because it wont get called again\n",
    "            self.update()\n",
    "\n",
    "        return maxAction\n",
    "    \n",
    "    def update(self):\n",
    "        # just update value in dictionary\n",
    "        # based off pacman homework\n",
    "        if printer: print(\"Updating q val\")\n",
    "        # called when the player recieves a new card so values can be updated\n",
    "        playerOldVal = self.lastValue\n",
    "        action = self.lastMove\n",
    "        playerNewVal = self.hand_value()\n",
    "        \n",
    "        if playerNewVal == -1: #if i busted\n",
    "            playerNewVal = -4\n",
    "            \n",
    "        \n",
    "        if printer: print(\"    Last Move: \", self.lastMove)\n",
    "        #no discount because # of cards doesnt matter, just winning\n",
    "        \n",
    "        if action != \"stand\":\n",
    "            sample = playerNewVal + self.computeValueFromQValues(self.dealer_card, playerNewVal)\n",
    "            self.qValues[(self.dealer_card, playerOldVal, action)] = ((1 - self.alpha)*self.getQValue(self.dealer_card, playerOldVal, action)) + (self.alpha * sample)\n",
    "        else:\n",
    "            # if i stand, the value of standing in my state is just the value of my hand\n",
    "            self.qValues[(self.dealer_card, playerOldVal, action)] = playerOldVal\n",
    "        self.lastValue = playerNewVal\n",
    "        \n",
    "    def getLegalActions(self, state):\n",
    "        # dumb function\n",
    "        return [\"hit\", \"stand\"]"
   ]
  },
  {
   "cell_type": "code",
   "execution_count": 16,
   "metadata": {
    "collapsed": true
   },
   "outputs": [],
   "source": [
    "class TrainedQLearner(Player):\n",
    "    # this is just a player that takes the qLearningAgents value dictionary and plays off of that, no more updates\n",
    "    def __init__(self, qValues):\n",
    "        self.qValues = qValues\n",
    "        super(TrainedQLearner, self).__init__()\n",
    "        \n",
    "    def update(self):\n",
    "        return\n",
    "    \n",
    "    def get_move(self):\n",
    "        return self.computeActionFromQValues()\n",
    "    \n",
    "    def getQValue(self, dealerVal, playerVal, action):\n",
    "        return float(self.qValues[(dealerVal, playerVal, action)])\n",
    "        \n",
    "    def computeValueFromQValues(self, dealerVal, playerVal):\n",
    "        maxQVal = float(\"-inf\")\n",
    "        legalActions = [\"hit\", \"stand\"]\n",
    "        for action in legalActions:\n",
    "            maxQVal = max(maxQVal, self.getQValue(dealerVal, playerVal, action))\n",
    "        return maxQVal\n",
    "    \n",
    "    def computeActionFromQValues(self):\n",
    "        if printer: print(\"getting action\")\n",
    "        maxQVal = float(\"-inf\")\n",
    "        maxAction = None\n",
    "        dealerVal = self.dealer_card\n",
    "        playerVal = self.hand_value()\n",
    "        for action in [\"hit\", \"stand\"]:\n",
    "            tempQVal = self.getQValue(dealerVal, playerVal, action)\n",
    "            if tempQVal > maxQVal:\n",
    "                maxQVal = tempQVal\n",
    "                maxAction = action\n",
    "            elif tempQVal == maxQVal:\n",
    "                maxAction = np.random.choice([maxAction, action])\n",
    "        if printer: print(\"   \", maxAction)\n",
    "        self.lastMove = maxAction\n",
    "        if printer: print(\"    updating Last move in get action\", self.lastMove)\n",
    "\n",
    "        return maxAction\n",
    "    \n",
    "    def getLegalActions(self, state):\n",
    "        return [\"hit\", \"stand\"]"
   ]
  },
  {
   "cell_type": "code",
   "execution_count": 18,
   "metadata": {
    "collapsed": true
   },
   "outputs": [],
   "source": [
    "#make pretty graphs\n",
    "def graph_it(wins, winrate, x, y, title):\n",
    "    sums = []\n",
    "    for i in range(1, len(wins)):\n",
    "        sums.append(sum(wins[0:i])/i)\n",
    "    plt.plot(sums)\n",
    "    plt.plot([winrate for _ in range(1, len(wins))], 'y-', alpha= .75)\n",
    "    plt.xlabel(x)\n",
    "    plt.ylabel(y)\n",
    "    plt.title(title)\n",
    "    plt.show()"
   ]
  },
  {
   "cell_type": "code",
   "execution_count": 19,
   "metadata": {},
   "outputs": [
    {
     "name": "stdout",
     "output_type": "stream",
     "text": [
      "0.391\n"
     ]
    },
    {
     "data": {
      "image/png": "[encoded data removed]",
      "text/plain": [
       "<matplotlib.figure.Figure at 0x244d56f4da0>"
      ]
     },
     "metadata": {},
     "output_type": "display_data"
    },
    {
     "name": "stdout",
     "output_type": "stream",
     "text": [
      "0.4993\n"
     ]
    },
    {
     "data": {
      "image/png": "[encoded data removed]",
      "text/plain": [
       "<matplotlib.figure.Figure at 0x244d59f5908>"
      ]
     },
     "metadata": {},
     "output_type": "display_data"
    },
    {
     "name": "stdout",
     "output_type": "stream",
     "text": [
      "0.326\n"
     ]
    },
    {
     "data": {
      "image/png": "[encoded data removed]",
      "text/plain": [
       "<matplotlib.figure.Figure at 0x244d59fbfd0>"
      ]
     },
     "metadata": {},
     "output_type": "display_data"
    }
   ],
   "source": [
    "# how to play the actual game\n",
    "game = BlackJack(QLearningAgent())\n",
    "game.play()\n",
    "graph_it(game.wins, game.winrate, \"Game #\", \"Q Learning Agent Winrate\", \"Q Learning Agent Winrate over Time\")\n",
    "array = game.player.qValues\n",
    "game = BlackJack(TrainedQLearner(array))\n",
    "game.play()\n",
    "graph_it(game.wins, game.winrate, \"Game #\", \"Trained Agent Winrate\", \"Trained Agent Winrate over Time\")\n",
    "game = BlackJack(RandomPlayer())\n",
    "game.play()\n",
    "graph_it(game.wins, game.winrate, \"Game #\", \"Random Agent Winrate\", \"Random Agent Winrate over Time\")\n",
    "# pp.pprint(array)"
   ]
  },
  {
   "cell_type": "code",
   "execution_count": null,
   "metadata": {
    "collapsed": true
   },
   "outputs": [],
   "source": []
  }
 ],
 "metadata": {
  "kernelspec": {
   "display_name": "Python 3",
   "language": "python",
   "name": "python3"
  },
  "language_info": {
   "codemirror_mode": {
    "name": "ipython",
    "version": 3
   },
   "file_extension": ".py",
   "mimetype": "text/x-python",
   "name": "python",
   "nbconvert_exporter": "python",
   "pygments_lexer": "ipython3",
   "version": "3.6.5"
  }
 },
 "nbformat": 4,
 "nbformat_minor": 2
}
